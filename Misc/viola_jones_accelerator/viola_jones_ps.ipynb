{
 "cells": [
  {
   "cell_type": "code",
   "execution_count": 2,
   "id": "1e112c98",
   "metadata": {},
   "outputs": [
    {
     "data": {
      "application/javascript": [
       "\n",
       "try {\n",
       "require(['notebook/js/codecell'], function(codecell) {\n",
       "  codecell.CodeCell.options_default.highlight_modes[\n",
       "      'magic_text/x-csrc'] = {'reg':[/^%%microblaze/]};\n",
       "  Jupyter.notebook.events.one('kernel_ready.Kernel', function(){\n",
       "      Jupyter.notebook.get_cells().map(function(cell){\n",
       "          if (cell.cell_type == 'code'){ cell.auto_highlight(); } }) ;\n",
       "  });\n",
       "});\n",
       "} catch (e) {};\n"
      ]
     },
     "metadata": {},
     "output_type": "display_data"
    },
    {
     "data": {
      "application/javascript": [
       "\n",
       "try {\n",
       "require(['notebook/js/codecell'], function(codecell) {\n",
       "  codecell.CodeCell.options_default.highlight_modes[\n",
       "      'magic_text/x-csrc'] = {'reg':[/^%%pybind11/]};\n",
       "  Jupyter.notebook.events.one('kernel_ready.Kernel', function(){\n",
       "      Jupyter.notebook.get_cells().map(function(cell){\n",
       "          if (cell.cell_type == 'code'){ cell.auto_highlight(); } }) ;\n",
       "  });\n",
       "});\n",
       "} catch (e) {};\n"
      ]
     },
     "metadata": {},
     "output_type": "display_data"
    }
   ],
   "source": [
    "from pynq import Overlay\n",
    "\n",
    "ol = Overlay(\"../../bitstreams/ver_3/cnn_hls_accelerator.bit\")"
   ]
  },
  {
   "cell_type": "code",
   "execution_count": 3,
   "id": "8d1ff171",
   "metadata": {},
   "outputs": [],
   "source": [
    "dma = ol.axi_dma\n",
    "dma_send = ol.axi_dma.sendchannel\n",
    "dma_recv = ol.axi_dma.recvchannel\n",
    "\n",
    "viola_jones_ip = ol.example_0"
   ]
  },
  {
   "cell_type": "code",
   "execution_count": 4,
   "id": "b9dda169",
   "metadata": {},
   "outputs": [
    {
     "data": {
      "text/plain": [
       "RegisterMap {\n",
       "  CTRL = Register(AP_START=0, AP_DONE=0, AP_IDLE=1, AP_READY=0, RESERVED_1=0, AUTO_RESTART=0, RESERVED_2=0, INTERRUPT=0, RESERVED_3=0),\n",
       "  GIER = Register(Enable=0, RESERVED=0),\n",
       "  IP_IER = Register(CHAN0_INT_EN=0, CHAN1_INT_EN=0, RESERVED_0=0),\n",
       "  IP_ISR = Register(CHAN0_INT_ST=0, CHAN1_INT_ST=0, RESERVED_0=0)\n",
       "}"
      ]
     },
     "execution_count": 4,
     "metadata": {},
     "output_type": "execute_result"
    }
   ],
   "source": [
    "viola_jones_ip.register_map"
   ]
  },
  {
   "cell_type": "code",
   "execution_count": 5,
   "id": "c1fbe55c",
   "metadata": {},
   "outputs": [],
   "source": [
    "CONTROL_REGISTER = 0x0\n",
    "viola_jones_ip.write(CONTROL_REGISTER, 0x81)"
   ]
  },
  {
   "cell_type": "code",
   "execution_count": 6,
   "id": "3ab1cef6",
   "metadata": {},
   "outputs": [
    {
     "data": {
      "text/plain": [
       "RegisterMap {\n",
       "  CTRL = Register(AP_START=1, AP_DONE=0, AP_IDLE=0, AP_READY=0, RESERVED_1=0, AUTO_RESTART=1, RESERVED_2=0, INTERRUPT=0, RESERVED_3=0),\n",
       "  GIER = Register(Enable=0, RESERVED=0),\n",
       "  IP_IER = Register(CHAN0_INT_EN=0, CHAN1_INT_EN=0, RESERVED_0=0),\n",
       "  IP_ISR = Register(CHAN0_INT_ST=0, CHAN1_INT_ST=0, RESERVED_0=0)\n",
       "}"
      ]
     },
     "execution_count": 6,
     "metadata": {},
     "output_type": "execute_result"
    }
   ],
   "source": [
    "viola_jones_ip.register_map"
   ]
  },
  {
   "cell_type": "code",
   "execution_count": 7,
   "id": "1b4103f6",
   "metadata": {},
   "outputs": [],
   "source": [
    "from pynq import allocate\n",
    "import numpy as np\n",
    "\n",
    "data_size = 100\n",
    "input_buffer = allocate(shape=(data_size,), dtype=np.uint32)\n",
    "\n",
    "for i in range(data_size):\n",
    "    input_buffer[i] = i"
   ]
  },
  {
   "cell_type": "code",
   "execution_count": 8,
   "id": "306ab657",
   "metadata": {},
   "outputs": [],
   "source": [
    "dma_send.transfer(input_buffer)"
   ]
  },
  {
   "cell_type": "code",
   "execution_count": 9,
   "id": "29be13fd",
   "metadata": {},
   "outputs": [],
   "source": [
    "output_buffer = allocate(shape=(data_size,), dtype=np.uint32)\n",
    "\n",
    "dma_recv.transfer(output_buffer)"
   ]
  },
  {
   "cell_type": "code",
   "execution_count": 10,
   "id": "dc1634bd",
   "metadata": {
    "scrolled": true
   },
   "outputs": [
    {
     "name": "stdout",
     "output_type": "stream",
     "text": [
      "0x05\n",
      "0x07\n",
      "0x09\n",
      "0x0b\n",
      "0x0d\n",
      "0x0f\n",
      "0x11\n",
      "0x13\n",
      "0x15\n",
      "0x17\n",
      "0x19\n",
      "0x1b\n",
      "0x1d\n",
      "0x1f\n",
      "0x21\n",
      "0x23\n",
      "0x25\n",
      "0x27\n",
      "0x29\n",
      "0x2b\n",
      "0x2d\n",
      "0x2f\n",
      "0x31\n",
      "0x33\n",
      "0x35\n",
      "0x37\n",
      "0x39\n",
      "0x3b\n",
      "0x3d\n",
      "0x3f\n",
      "0x41\n",
      "0x43\n",
      "0x45\n",
      "0x47\n",
      "0x49\n",
      "0x4b\n",
      "0x4d\n",
      "0x4f\n",
      "0x51\n",
      "0x53\n",
      "0x55\n",
      "0x57\n",
      "0x59\n",
      "0x5b\n",
      "0x5d\n",
      "0x5f\n",
      "0x61\n",
      "0x63\n",
      "0x65\n",
      "0x67\n",
      "0x00\n",
      "0x00\n",
      "0x00\n",
      "0x00\n",
      "0x00\n",
      "0x00\n",
      "0x00\n",
      "0x00\n",
      "0x00\n",
      "0x00\n",
      "0x00\n",
      "0x00\n",
      "0x00\n",
      "0x00\n",
      "0x00\n",
      "0x00\n",
      "0x00\n",
      "0x00\n",
      "0x00\n",
      "0x00\n",
      "0x00\n",
      "0x00\n",
      "0x00\n",
      "0x00\n",
      "0x00\n",
      "0x00\n",
      "0x00\n",
      "0x00\n",
      "0x00\n",
      "0x00\n",
      "0x00\n",
      "0x00\n",
      "0x00\n",
      "0x00\n",
      "0x00\n",
      "0x00\n",
      "0x00\n",
      "0x00\n",
      "0x00\n",
      "0x00\n",
      "0x00\n",
      "0x00\n",
      "0x00\n",
      "0x00\n",
      "0x00\n",
      "0x00\n",
      "0x00\n",
      "0x00\n",
      "0x00\n",
      "0x00\n"
     ]
    }
   ],
   "source": [
    "for i in range(data_size):\n",
    "    print('0x' + format(output_buffer[i], '02x'))"
   ]
  },
  {
   "cell_type": "code",
   "execution_count": 14,
   "id": "c00cca6b",
   "metadata": {},
   "outputs": [
    {
     "name": "stdout",
     "output_type": "stream",
     "text": [
      "in: 0 \t out: 5\n",
      "in: 1 \t out: 7\n",
      "in: 2 \t out: 9\n",
      "in: 3 \t out: 11\n",
      "in: 4 \t out: 13\n",
      "in: 5 \t out: 15\n",
      "in: 6 \t out: 17\n",
      "in: 7 \t out: 19\n",
      "in: 8 \t out: 21\n",
      "in: 9 \t out: 23\n",
      "in: 10 \t out: 25\n",
      "in: 11 \t out: 27\n",
      "in: 12 \t out: 29\n",
      "in: 13 \t out: 31\n",
      "in: 14 \t out: 33\n",
      "in: 15 \t out: 35\n",
      "in: 16 \t out: 37\n",
      "in: 17 \t out: 39\n",
      "in: 18 \t out: 41\n",
      "in: 19 \t out: 43\n",
      "in: 20 \t out: 45\n",
      "in: 21 \t out: 47\n",
      "in: 22 \t out: 49\n",
      "in: 23 \t out: 51\n",
      "in: 24 \t out: 53\n",
      "in: 25 \t out: 55\n",
      "in: 26 \t out: 57\n",
      "in: 27 \t out: 59\n",
      "in: 28 \t out: 61\n",
      "in: 29 \t out: 63\n",
      "in: 30 \t out: 65\n",
      "in: 31 \t out: 67\n",
      "in: 32 \t out: 69\n",
      "in: 33 \t out: 71\n",
      "in: 34 \t out: 73\n",
      "in: 35 \t out: 75\n",
      "in: 36 \t out: 77\n",
      "in: 37 \t out: 79\n",
      "in: 38 \t out: 81\n",
      "in: 39 \t out: 83\n",
      "in: 40 \t out: 85\n",
      "in: 41 \t out: 87\n",
      "in: 42 \t out: 89\n",
      "in: 43 \t out: 91\n",
      "in: 44 \t out: 93\n",
      "in: 45 \t out: 95\n",
      "in: 46 \t out: 97\n",
      "in: 47 \t out: 99\n",
      "in: 48 \t out: 101\n",
      "in: 49 \t out: 103\n",
      "in: 50 \t out: 0\n",
      "in: 51 \t out: 0\n",
      "in: 52 \t out: 0\n",
      "in: 53 \t out: 0\n",
      "in: 54 \t out: 0\n",
      "in: 55 \t out: 0\n",
      "in: 56 \t out: 0\n",
      "in: 57 \t out: 0\n",
      "in: 58 \t out: 0\n",
      "in: 59 \t out: 0\n",
      "in: 60 \t out: 0\n",
      "in: 61 \t out: 0\n",
      "in: 62 \t out: 0\n",
      "in: 63 \t out: 0\n",
      "in: 64 \t out: 0\n",
      "in: 65 \t out: 0\n",
      "in: 66 \t out: 0\n",
      "in: 67 \t out: 0\n",
      "in: 68 \t out: 0\n",
      "in: 69 \t out: 0\n",
      "in: 70 \t out: 0\n",
      "in: 71 \t out: 0\n",
      "in: 72 \t out: 0\n",
      "in: 73 \t out: 0\n",
      "in: 74 \t out: 0\n",
      "in: 75 \t out: 0\n",
      "in: 76 \t out: 0\n",
      "in: 77 \t out: 0\n",
      "in: 78 \t out: 0\n",
      "in: 79 \t out: 0\n",
      "in: 80 \t out: 0\n",
      "in: 81 \t out: 0\n",
      "in: 82 \t out: 0\n",
      "in: 83 \t out: 0\n",
      "in: 84 \t out: 0\n",
      "in: 85 \t out: 0\n",
      "in: 86 \t out: 0\n",
      "in: 87 \t out: 0\n",
      "in: 88 \t out: 0\n",
      "in: 89 \t out: 0\n",
      "in: 90 \t out: 0\n",
      "in: 91 \t out: 0\n",
      "in: 92 \t out: 0\n",
      "in: 93 \t out: 0\n",
      "in: 94 \t out: 0\n",
      "in: 95 \t out: 0\n",
      "in: 96 \t out: 0\n",
      "in: 97 \t out: 0\n",
      "in: 98 \t out: 0\n",
      "in: 99 \t out: 0\n"
     ]
    }
   ],
   "source": [
    "for i in range(data_size):\n",
    "    print(\"in: {} \\t out: {}\".format(input_buffer[i], output_buffer[i]))"
   ]
  },
  {
   "cell_type": "code",
   "execution_count": 11,
   "id": "775d88e3",
   "metadata": {},
   "outputs": [
    {
     "name": "stdout",
     "output_type": "stream",
     "text": [
      "Arrays are equal: False\n"
     ]
    }
   ],
   "source": [
    "print(\"Arrays are equal: {}\".format(np.array_equal(input_buffer, output_buffer-5)))"
   ]
  },
  {
   "cell_type": "code",
   "execution_count": 26,
   "id": "43ca59f4",
   "metadata": {},
   "outputs": [],
   "source": [
    "del input_buffer, output_buffer"
   ]
  }
 ],
 "metadata": {
  "kernelspec": {
   "display_name": "Python 3 (ipykernel)",
   "language": "python",
   "name": "python3"
  },
  "language_info": {
   "codemirror_mode": {
    "name": "ipython",
    "version": 3
   },
   "file_extension": ".py",
   "mimetype": "text/x-python",
   "name": "python",
   "nbconvert_exporter": "python",
   "pygments_lexer": "ipython3",
   "version": "3.10.4"
  }
 },
 "nbformat": 4,
 "nbformat_minor": 5
}
