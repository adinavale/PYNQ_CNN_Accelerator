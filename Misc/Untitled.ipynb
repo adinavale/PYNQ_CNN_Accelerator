{
 "cells": [
  {
   "cell_type": "code",
   "execution_count": 6,
   "id": "04f5974b",
   "metadata": {},
   "outputs": [],
   "source": [
    "from pynq import Overlay\n",
    "\n",
    "ol = Overlay(\"./bitstreams/ver_2/pynq_hdmi_dma.bit\")"
   ]
  },
  {
   "cell_type": "code",
   "execution_count": 7,
   "id": "89d959ab",
   "metadata": {},
   "outputs": [],
   "source": [
    "ol.custom_dma?"
   ]
  }
 ],
 "metadata": {
  "kernelspec": {
   "display_name": "Python 3 (ipykernel)",
   "language": "python",
   "name": "python3"
  },
  "language_info": {
   "codemirror_mode": {
    "name": "ipython",
    "version": 3
   },
   "file_extension": ".py",
   "mimetype": "text/x-python",
   "name": "python",
   "nbconvert_exporter": "python",
   "pygments_lexer": "ipython3",
   "version": "3.10.4"
  }
 },
 "nbformat": 4,
 "nbformat_minor": 5
}
